{
 "cells": [
  {
   "cell_type": "code",
   "execution_count": 1,
   "metadata": {},
   "outputs": [],
   "source": [
    "import os, shutil"
   ]
  },
  {
   "cell_type": "code",
   "execution_count": 2,
   "metadata": {},
   "outputs": [],
   "source": [
    "Data_directory = \"C:\\\\Users\\Ramy\\.keras\\datasets\\PetImages\""
   ]
  },
  {
   "cell_type": "code",
   "execution_count": 3,
   "metadata": {},
   "outputs": [],
   "source": [
    "base_directory = \"C:\\\\Users\\Ramy\\.keras\\datasets\\cats_dogs_small\""
   ]
  },
  {
   "cell_type": "markdown",
   "metadata": {},
   "source": [
    "### Run only once"
   ]
  },
  {
   "cell_type": "code",
   "execution_count": 4,
   "metadata": {},
   "outputs": [],
   "source": [
    "os.mkdir(base_directory) #if i run it again, the system will duplicate the dir. this code should be converted to a comment after runing once."
   ]
  },
  {
   "cell_type": "markdown",
   "metadata": {},
   "source": [
    "## run always"
   ]
  },
  {
   "cell_type": "code",
   "execution_count": 5,
   "metadata": {},
   "outputs": [],
   "source": [
    "train_directory = os.path.join(base_directory, 'train')\n",
    "validation_directory = os.path.join(base_directory, 'validation')\n",
    "test_directory = os.path.join(base_directory, 'test')"
   ]
  },
  {
   "cell_type": "markdown",
   "metadata": {},
   "source": [
    "### Run once again"
   ]
  },
  {
   "cell_type": "code",
   "execution_count": 6,
   "metadata": {},
   "outputs": [],
   "source": [
    "os.mkdir(train_directory)\n",
    "os.mkdir(validation_directory)\n",
    "os.mkdir(test_directory)"
   ]
  },
  {
   "cell_type": "markdown",
   "metadata": {},
   "source": [
    "#### Run alawys"
   ]
  },
  {
   "cell_type": "code",
   "execution_count": 7,
   "metadata": {},
   "outputs": [],
   "source": [
    "train_cats_dir = os.path.join(train_directory, 'cats')\n",
    "train_dogs_dir = os.path.join(train_directory, 'dogs')\n",
    "validation_cats_dir = os.path.join(validation_directory, 'cats')\n",
    "validation_dogs_dir = os.path.join(validation_directory, 'dogs')\n",
    "test_cats_dir = os.path.join(test_directory, 'cats')\n",
    "test_dogs_dir = os.path.join(test_directory, 'dogs')"
   ]
  },
  {
   "cell_type": "markdown",
   "metadata": {},
   "source": [
    "### Once again run"
   ]
  },
  {
   "cell_type": "code",
   "execution_count": 8,
   "metadata": {},
   "outputs": [],
   "source": [
    "os.mkdir(train_cats_dir)\n",
    "os.mkdir(train_dogs_dir)\n",
    "os.mkdir(validation_cats_dir)\n",
    "os.mkdir(validation_dogs_dir)\n",
    "os.mkdir(test_cats_dir)\n",
    "os.mkdir(test_dogs_dir)"
   ]
  },
  {
   "cell_type": "code",
   "execution_count": 9,
   "metadata": {},
   "outputs": [
    {
     "data": {
      "text/plain": [
       "'C:\\\\Users\\\\Ramy\\\\.keras\\\\datasets\\\\PetImages\\\\Cat'"
      ]
     },
     "execution_count": 9,
     "metadata": {},
     "output_type": "execute_result"
    }
   ],
   "source": [
    "original_dir_cat = os.path.join(Data_directory, 'Cat')\n",
    "original_dir_cat"
   ]
  },
  {
   "cell_type": "markdown",
   "metadata": {},
   "source": [
    "## Run once (getting cats images"
   ]
  },
  {
   "cell_type": "code",
   "execution_count": 10,
   "metadata": {},
   "outputs": [],
   "source": [
    "fnames = ['{}.jpg'.format(i) for i in range(1000)]\n",
    "for fnames in fnames:\n",
    "    src = os.path.join(original_dir_cat, fnames)\n",
    "    dst = os.path.join(train_cats_dir, fnames)\n",
    "    shutil.copyfile(src, dst)\n",
    "\n",
    "fnames = ['{}.jpg'.format(i) for i in range(1000, 1500)]\n",
    "for fnames in fnames:\n",
    "    src = os.path.join(original_dir_cat, fnames)\n",
    "    dst = os.path.join(validation_cats_dir, fnames)\n",
    "    shutil.copyfile(src, dst)\n",
    "\n",
    "fnames = ['{}.jpg'.format(i) for i in range(1500, 2000)]\n",
    "for fnames in fnames:\n",
    "    src = os.path.join(original_dir_cat, fnames)\n",
    "    dst = os.path.join(test_cats_dir, fnames)\n",
    "    shutil.copyfile(src, dst)"
   ]
  },
  {
   "cell_type": "code",
   "execution_count": 11,
   "metadata": {},
   "outputs": [
    {
     "data": {
      "text/plain": [
       "'C:\\\\Users\\\\Ramy\\\\.keras\\\\datasets\\\\PetImages\\\\Dog'"
      ]
     },
     "execution_count": 11,
     "metadata": {},
     "output_type": "execute_result"
    }
   ],
   "source": [
    "original_dir_dog = os.path.join(Data_directory, 'Dog')\n",
    "original_dir_dog"
   ]
  },
  {
   "cell_type": "markdown",
   "metadata": {},
   "source": [
    "### Run once"
   ]
  },
  {
   "cell_type": "code",
   "execution_count": 12,
   "metadata": {},
   "outputs": [],
   "source": [
    "fnames = ['{}.jpg'.format(i) for i in range(1000)]\n",
    "for fnames in fnames:\n",
    "    src = os.path.join(original_dir_dog, fnames)\n",
    "    dst = os.path.join(train_dogs_dir, fnames)\n",
    "    shutil.copyfile(src, dst)\n",
    "\n",
    "fnames = ['{}.jpg'.format(i) for i in range(1000, 1500)]\n",
    "for fnames in fnames:\n",
    "    src = os.path.join(original_dir_dog, fnames)\n",
    "    dst = os.path.join(validation_dogs_dir, fnames)\n",
    "    shutil.copyfile(src, dst)\n",
    "\n",
    "fnames = ['{}.jpg'.format(i) for i in range(1500, 2000)]\n",
    "for fnames in fnames:\n",
    "    src = os.path.join(original_dir_dog, fnames)\n",
    "    dst = os.path.join(test_dogs_dir, fnames)\n",
    "    shutil.copyfile(src, dst)"
   ]
  },
  {
   "cell_type": "code",
   "execution_count": null,
   "metadata": {},
   "outputs": [],
   "source": []
  }
 ],
 "metadata": {
  "kernelspec": {
   "display_name": "Python 3",
   "language": "python",
   "name": "python3"
  },
  "language_info": {
   "codemirror_mode": {
    "name": "ipython",
    "version": 3
   },
   "file_extension": ".py",
   "mimetype": "text/x-python",
   "name": "python",
   "nbconvert_exporter": "python",
   "pygments_lexer": "ipython3",
   "version": "3.8.3"
  }
 },
 "nbformat": 4,
 "nbformat_minor": 4
}
