{
 "cells": [
  {
   "cell_type": "code",
   "execution_count": 1,
   "metadata": {},
   "outputs": [],
   "source": [
    "import keras\n",
    "from keras.models import Model\n",
    "from keras.layers import Input, Dense, Embedding, LSTM"
   ]
  },
  {
   "cell_type": "code",
   "execution_count": 2,
   "metadata": {},
   "outputs": [],
   "source": [
    "#recieving a sequence of 100 int, between 1 - 10000.\n",
    "main_input = Input(shape=(100,), dtype='int32', name='main_input')"
   ]
  },
  {
   "cell_type": "code",
   "execution_count": 3,
   "metadata": {},
   "outputs": [],
   "source": [
    "#the embedding layer will encode the input sequence\n",
    "x = Embedding(output_dim = 512, input_dim = 10000, input_length = 100)(main_input)"
   ]
  },
  {
   "cell_type": "code",
   "execution_count": 4,
   "metadata": {},
   "outputs": [],
   "source": [
    "#lstm will transform the vector sequence into a single vector contains info about the entire sequence\n",
    "lstm_out = LSTM(32)(x)"
   ]
  },
  {
   "cell_type": "code",
   "execution_count": 5,
   "metadata": {},
   "outputs": [],
   "source": [
    "# this allows Lstm and Embedding to be trained smoothly even though the main loss will be much higher in the model\n",
    "auxiliary_input = Input(shape=(5,), name = 'aux_input')"
   ]
  },
  {
   "cell_type": "code",
   "execution_count": 6,
   "metadata": {},
   "outputs": [],
   "source": [
    "auxiliary_output = Dense(1, activation = 'sigmoid', name = 'aux_output')(lstm_out)"
   ]
  },
  {
   "cell_type": "code",
   "execution_count": 7,
   "metadata": {},
   "outputs": [],
   "source": [
    "x = keras.layers.concatenate([lstm_out, auxiliary_input])"
   ]
  },
  {
   "cell_type": "code",
   "execution_count": 8,
   "metadata": {},
   "outputs": [],
   "source": [
    "# stacking denses connected on top\n",
    "x = Dense(64, activation = 'relu')(x)\n",
    "x = Dense(64, activation = 'relu')(x)\n",
    "x = Dense(64, activation = 'relu')(x)"
   ]
  },
  {
   "cell_type": "code",
   "execution_count": 9,
   "metadata": {},
   "outputs": [],
   "source": [
    "main_output = Dense(1, activation = 'sigmoid', name = 'main_output')(x)"
   ]
  },
  {
   "cell_type": "code",
   "execution_count": 15,
   "metadata": {},
   "outputs": [],
   "source": [
    "model = Model(inputs = [main_input, auxiliary_input], outputs = [main_output, auxiliary_output])"
   ]
  },
  {
   "cell_type": "code",
   "execution_count": 16,
   "metadata": {},
   "outputs": [],
   "source": [
    "model.compile(optimizer='rmsprop',\n",
    "             loss={'main_output': 'binary_crossentropy', 'aux_output': 'binary_crossentropy'},\n",
    "             loss_weights={'main_output': 1., 'aux_output': 0.2})"
   ]
  },
  {
   "cell_type": "code",
   "execution_count": 17,
   "metadata": {},
   "outputs": [
    {
     "name": "stdout",
     "output_type": "stream",
     "text": [
      "Model: \"model_1\"\n",
      "__________________________________________________________________________________________________\n",
      "Layer (type)                    Output Shape         Param #     Connected to                     \n",
      "==================================================================================================\n",
      "main_input (InputLayer)         [(None, 100)]        0                                            \n",
      "__________________________________________________________________________________________________\n",
      "embedding (Embedding)           (None, 100, 512)     5120000     main_input[0][0]                 \n",
      "__________________________________________________________________________________________________\n",
      "lstm (LSTM)                     (None, 32)           69760       embedding[0][0]                  \n",
      "__________________________________________________________________________________________________\n",
      "aux_input (InputLayer)          [(None, 5)]          0                                            \n",
      "__________________________________________________________________________________________________\n",
      "concatenate (Concatenate)       (None, 37)           0           lstm[0][0]                       \n",
      "                                                                 aux_input[0][0]                  \n",
      "__________________________________________________________________________________________________\n",
      "dense (Dense)                   (None, 64)           2432        concatenate[0][0]                \n",
      "__________________________________________________________________________________________________\n",
      "dense_1 (Dense)                 (None, 64)           4160        dense[0][0]                      \n",
      "__________________________________________________________________________________________________\n",
      "dense_2 (Dense)                 (None, 64)           4160        dense_1[0][0]                    \n",
      "__________________________________________________________________________________________________\n",
      "main_output (Dense)             (None, 1)            65          dense_2[0][0]                    \n",
      "__________________________________________________________________________________________________\n",
      "aux_output (Dense)              (None, 1)            33          lstm[0][0]                       \n",
      "==================================================================================================\n",
      "Total params: 5,200,610\n",
      "Trainable params: 5,200,610\n",
      "Non-trainable params: 0\n",
      "__________________________________________________________________________________________________\n"
     ]
    }
   ],
   "source": [
    "model.summary()"
   ]
  },
  {
   "cell_type": "code",
   "execution_count": 18,
   "metadata": {},
   "outputs": [],
   "source": [
    "import numpy as np"
   ]
  },
  {
   "cell_type": "code",
   "execution_count": 19,
   "metadata": {},
   "outputs": [],
   "source": [
    "np.random.seed(0)"
   ]
  },
  {
   "cell_type": "code",
   "execution_count": 20,
   "metadata": {},
   "outputs": [],
   "source": [
    "main_data = np.round(np.abs(np.random.rand(12,100) * 100))\n",
    "aux_data = np.random.randn(12,5)"
   ]
  },
  {
   "cell_type": "code",
   "execution_count": 21,
   "metadata": {},
   "outputs": [],
   "source": [
    "main_out = np.random.randn(12,1)\n",
    "aux_out = np.random.randn(12,1)"
   ]
  },
  {
   "cell_type": "code",
   "execution_count": 22,
   "metadata": {},
   "outputs": [
    {
     "name": "stdout",
     "output_type": "stream",
     "text": [
      "Epoch 1/10\n",
      "1/1 [==============================] - 3s 3s/step - loss: 0.7866 - main_output_loss: 0.6474 - aux_output_loss: 0.6961\n",
      "Epoch 2/10\n",
      "1/1 [==============================] - 0s 67ms/step - loss: 0.6734 - main_output_loss: 0.5436 - aux_output_loss: 0.6491\n",
      "Epoch 3/10\n",
      "1/1 [==============================] - 0s 60ms/step - loss: 0.5850 - main_output_loss: 0.4624 - aux_output_loss: 0.6132\n",
      "Epoch 4/10\n",
      "1/1 [==============================] - 0s 64ms/step - loss: 0.4972 - main_output_loss: 0.3835 - aux_output_loss: 0.5689\n",
      "Epoch 5/10\n",
      "1/1 [==============================] - 0s 72ms/step - loss: 0.4009 - main_output_loss: 0.2954 - aux_output_loss: 0.5275\n",
      "Epoch 6/10\n",
      "1/1 [==============================] - 0s 59ms/step - loss: 0.2857 - main_output_loss: 0.1918 - aux_output_loss: 0.4694\n",
      "Epoch 7/10\n",
      "1/1 [==============================] - 0s 66ms/step - loss: 0.1393 - main_output_loss: 0.0579 - aux_output_loss: 0.4068\n",
      "Epoch 8/10\n",
      "1/1 [==============================] - 0s 59ms/step - loss: -0.0569 - main_output_loss: -0.1243 - aux_output_loss: 0.3371\n",
      "Epoch 9/10\n",
      "1/1 [==============================] - 0s 57ms/step - loss: -0.3261 - main_output_loss: -0.3781 - aux_output_loss: 0.2599\n",
      "Epoch 10/10\n",
      "1/1 [==============================] - 0s 62ms/step - loss: -0.6460 - main_output_loss: -0.6908 - aux_output_loss: 0.2236\n"
     ]
    },
    {
     "data": {
      "text/plain": [
       "<tensorflow.python.keras.callbacks.History at 0x21726292f40>"
      ]
     },
     "execution_count": 22,
     "metadata": {},
     "output_type": "execute_result"
    }
   ],
   "source": [
    "model.fit({'main_input': main_data, 'aux_input': aux_data},\n",
    "         {'main_output': main_out, 'aux_output': aux_out},\n",
    "         epochs= 10,\n",
    "         batch_size = 32)"
   ]
  },
  {
   "cell_type": "code",
   "execution_count": 23,
   "metadata": {},
   "outputs": [
    {
     "data": {
      "text/plain": [
       "[array([[0.00317547],\n",
       "        [0.04662156],\n",
       "        [0.31343287],\n",
       "        [0.00446612],\n",
       "        [0.00417751],\n",
       "        [0.5495355 ],\n",
       "        [0.0015097 ],\n",
       "        [0.32988083],\n",
       "        [0.00316578],\n",
       "        [0.49968585],\n",
       "        [0.46098498],\n",
       "        [0.00966024]], dtype=float32),\n",
       " array([[0.30854642],\n",
       "        [0.2322318 ],\n",
       "        [0.1884751 ],\n",
       "        [0.2551781 ],\n",
       "        [0.23924723],\n",
       "        [0.4189574 ],\n",
       "        [0.25544542],\n",
       "        [0.28533685],\n",
       "        [0.14196303],\n",
       "        [0.28825143],\n",
       "        [0.4701362 ],\n",
       "        [0.3393785 ]], dtype=float32)]"
      ]
     },
     "execution_count": 23,
     "metadata": {},
     "output_type": "execute_result"
    }
   ],
   "source": [
    "model.predict({'main_input': main_data, 'aux_input': aux_data})"
   ]
  },
  {
   "cell_type": "code",
   "execution_count": null,
   "metadata": {},
   "outputs": [],
   "source": []
  }
 ],
 "metadata": {
  "kernelspec": {
   "display_name": "Python 3",
   "language": "python",
   "name": "python3"
  },
  "language_info": {
   "codemirror_mode": {
    "name": "ipython",
    "version": 3
   },
   "file_extension": ".py",
   "mimetype": "text/x-python",
   "name": "python",
   "nbconvert_exporter": "python",
   "pygments_lexer": "ipython3",
   "version": "3.8.3"
  }
 },
 "nbformat": 4,
 "nbformat_minor": 4
}
