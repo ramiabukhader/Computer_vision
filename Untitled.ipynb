{
 "cells": [
  {
   "cell_type": "code",
   "execution_count": 5,
   "metadata": {},
   "outputs": [],
   "source": [
    "import cv2 as cv\n",
    "import numpy as np"
   ]
  },
  {
   "cell_type": "code",
   "execution_count": 3,
   "metadata": {},
   "outputs": [],
   "source": [
    "img = cv.imread(\"Images/Ronaldo-1.jpg\")"
   ]
  },
  {
   "cell_type": "code",
   "execution_count": 4,
   "metadata": {},
   "outputs": [
    {
     "data": {
      "text/plain": [
       "array([[[196, 193, 202],\n",
       "        [200, 196, 201],\n",
       "        [202, 197, 199],\n",
       "        ...,\n",
       "        [205, 200, 202],\n",
       "        [205, 200, 202],\n",
       "        [199, 195, 201]],\n",
       "\n",
       "       [[201, 198, 200],\n",
       "        [204, 200, 199],\n",
       "        [206, 201, 198],\n",
       "        ...,\n",
       "        [206, 201, 200],\n",
       "        [206, 202, 201],\n",
       "        [205, 200, 202]],\n",
       "\n",
       "       [[201, 195, 200],\n",
       "        [204, 199, 198],\n",
       "        [204, 199, 198],\n",
       "        ...,\n",
       "        [207, 202, 201],\n",
       "        [207, 202, 201],\n",
       "        [204, 199, 201]],\n",
       "\n",
       "       ...,\n",
       "\n",
       "       [[211, 201, 201],\n",
       "        [208, 203, 202],\n",
       "        [207, 203, 202],\n",
       "        ...,\n",
       "        [208, 203, 202],\n",
       "        [208, 203, 202],\n",
       "        [198, 192, 203]],\n",
       "\n",
       "       [[212, 201, 203],\n",
       "        [208, 202, 203],\n",
       "        [209, 204, 203],\n",
       "        ...,\n",
       "        [208, 203, 202],\n",
       "        [208, 203, 202],\n",
       "        [197, 193, 204]],\n",
       "\n",
       "       [[209, 198, 201],\n",
       "        [206, 199, 202],\n",
       "        [206, 199, 202],\n",
       "        ...,\n",
       "        [196, 192, 203],\n",
       "        [196, 192, 204],\n",
       "        [185, 182, 204]]], dtype=uint8)"
      ]
     },
     "execution_count": 4,
     "metadata": {},
     "output_type": "execute_result"
    }
   ],
   "source": []
  },
  {
   "cell_type": "code",
   "execution_count": null,
   "metadata": {},
   "outputs": [],
   "source": []
  }
 ],
 "metadata": {
  "kernelspec": {
   "display_name": "Python 3.8.0 32-bit",
   "language": "python",
   "name": "python38032bitedd5278d345947ed85bec0fb80e2cb46"
  },
  "language_info": {
   "codemirror_mode": {
    "name": "ipython",
    "version": 3
   },
   "file_extension": ".py",
   "mimetype": "text/x-python",
   "name": "python",
   "nbconvert_exporter": "python",
   "pygments_lexer": "ipython3",
   "version": "3.8.0"
  }
 },
 "nbformat": 4,
 "nbformat_minor": 4
}
